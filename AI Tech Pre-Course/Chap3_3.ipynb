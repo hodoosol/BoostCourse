{
  "nbformat": 4,
  "nbformat_minor": 0,
  "metadata": {
    "colab": {
      "name": "Chap3_3.ipynb",
      "provenance": [],
      "authorship_tag": "ABX9TyOxZ8XRVMFmRst+bqgwvKzl",
      "include_colab_link": true
    },
    "kernelspec": {
      "name": "python3",
      "display_name": "Python 3"
    },
    "language_info": {
      "name": "python"
    }
  },
  "cells": [
    {
      "cell_type": "markdown",
      "metadata": {
        "id": "view-in-github",
        "colab_type": "text"
      },
      "source": [
        "<a href=\"https://colab.research.google.com/github/hodoosol/BoostCourse/blob/master/Chap3_3.ipynb\" target=\"_parent\"><img src=\"https://colab.research.google.com/assets/colab-badge.svg\" alt=\"Open In Colab\"/></a>"
      ]
    },
    {
      "cell_type": "markdown",
      "metadata": {
        "id": "Sb3NwD4MxMeu"
      },
      "source": [
        "# Mathematics for Artificial Intelligence\n",
        "\n",
        "## 2강 : 행렬은 뭔가요 ?\n",
        "\n",
        "- 행렬(matrix)는 벡터를 원소로 가지는 2차원 배열이다.\n",
        "\n",
        "- numpy 에서는 행(row)가 기본 단위임을 명심하자. 즉, 행렬은 행벡터를 원소로 가지는 배열이다.\n",
        "\n",
        "- 벡터는 소문자(x)로, 행렬은 대문자(X)로 표기한다.\n",
        "\n",
        "- 행렬은 행과 열이라는 인덱스를 가진다. 행을 먼저, 열이 다음에 나온다. \n",
        "\n",
        "ex) xij = i행 j열의 원소\n",
        "\n",
        "- 행렬의 특정 행(열)을 고정하면 행(열)벡터라고 부른다. \n",
        "\n",
        "ex) 어떤 행렬의 3번째 행벡터, 4번째 열벡터 등으로 표현 가능하다."
      ]
    },
    {
      "cell_type": "code",
      "metadata": {
        "id": "2ZD5WjCrxDRa"
      },
      "source": [
        "import numpy as np\n",
        "\n",
        "x = np.array([[1, -2, 3], [7, 5, 0], [-2, -1, 2]])"
      ],
      "execution_count": 1,
      "outputs": []
    },
    {
      "cell_type": "markdown",
      "metadata": {
        "id": "HbzWjD4uymGb"
      },
      "source": [
        "## 전치행렬(transpose matrix)\n",
        "\n",
        "- 전치행렬이란 행과 열의 인덱스가 바뀐 행렬이다.\n",
        "\n",
        "- XT = (xji) 즉, m * n 행렬의 전치행렬은 n * m의 shape을 갖는다.\n",
        "\n",
        "- 벡터에도 적용 가능하다.\n"
      ]
    },
    {
      "cell_type": "markdown",
      "metadata": {
        "id": "Wd7HRdWCzTXX"
      },
      "source": [
        "## 행렬을 이해하는 방법(1)\n",
        "- 벡터가 공간에서 한 점을 의미한다면 행렬은 여러 점들을 나타낸다.\n",
        "\n",
        "- 행렬의 행벡터 xi는 i 번째 데이터를 의미한다.\n",
        "\n",
        "- 행렬의 xij는 i번째 데이터의 j번째 변수의 값을 말한다.\n",
        "\n",
        "- 행렬끼리 같은 모양을 가지면 덧셈, 뺄셈을 계산할 수 있다. -> 벡터의 덧셈, 뺄셈과 동일하다.\n",
        "\n",
        "- 두 행렬의 각 인덱스 위치끼리 곱하는 성분곱(element wise product)도 벡터와 동일하다.\n",
        "\n",
        "- 행렬의 스칼라 곱도 벡터와 차이가 없다.\n",
        "\n",
        "aX = (axij) 모든 성분에 똑같은 숫자(스칼라)를 곱해준다.\n",
        "\n",
        "\n"
      ]
    },
    {
      "cell_type": "markdown",
      "metadata": {
        "id": "-nCo9Ghs0RU1"
      },
      "source": [
        "## 행렬 곱셈 (matrix multiplication)\n",
        "\n",
        "- 행렬 곱셈은 i번째 행벡터와 j번째 열벡터 사이의 내적을 성분으로 가지는 행렬을 계산한다.\n",
        "\n",
        "- 따라서, 행렬곱을 하기 위해서는 X의 열의 개수와 Y의 행의 개수가 같아야 한다.\n",
        "\n",
        "- XY != YX, 일반적인 곱셈과 달리 연산의 순서가 중요하다.\n",
        "\n",
        "- numpy에서 행렬곱은 @ 연산을 사용한다."
      ]
    },
    {
      "cell_type": "code",
      "metadata": {
        "id": "8zFzkTOoxhkc"
      },
      "source": [
        "X = np.array([[1, -2, 3], [7, 5, 0], [-2, -1, 2]])\n",
        "Y = np.array([[0, 1], [1, -1], [-2, 1]])"
      ],
      "execution_count": 2,
      "outputs": []
    },
    {
      "cell_type": "code",
      "metadata": {
        "colab": {
          "base_uri": "https://localhost:8080/"
        },
        "id": "nwFybkzq1w4J",
        "outputId": "6b885fd1-9e47-4ff6-b1b0-1eee1c5e9e2e"
      },
      "source": [
        "X @ Y"
      ],
      "execution_count": 3,
      "outputs": [
        {
          "output_type": "execute_result",
          "data": {
            "text/plain": [
              "array([[-8,  6],\n",
              "       [ 5,  2],\n",
              "       [-5,  1]])"
            ]
          },
          "metadata": {
            "tags": []
          },
          "execution_count": 3
        }
      ]
    },
    {
      "cell_type": "markdown",
      "metadata": {
        "id": "ssAAfHj02r82"
      },
      "source": [
        "## 행렬도 내적이 있을까 ?\n",
        "\n",
        "- 넘파이의 np.inner는 i번째 행벡터와 j번째 행벡터 사이의 내적을 성분으로 가지는 행렬을 계산한다.\n",
        "\n",
        "- 수학에서 말하는 내적과는 다르니 주의 ! 수학에서는 보통 tr(XYT)를 내적으로 계산한다.\n",
        "\n",
        "- (나의 해석 _ 행렬곱이 행렬 X의 i번째 행벡터와 행렬 Y의 i번째 열벡터 사이의 내적을 구하는 것이라면 행렬의 내적은 X의 i번째 행벡터와 Y의 i번째 행벡터의 내적을 구하는 것이다.)\n",
        "\n",
        "- np.inner = XYT 이다.\n",
        "\n",
        "- 행렬의 내적을 계산하기 위해서는 두 행렬의 의 개수가 같아야 한다.\n"
      ]
    },
    {
      "cell_type": "code",
      "metadata": {
        "id": "cCPKzzKR4_f4"
      },
      "source": [
        "X = np.array([[1, -2, 3], [7, 5, 0], [-2, -1, 2]])\n",
        "Y = np.array([[0, 1, -1], [1, -1, 0]])"
      ],
      "execution_count": 4,
      "outputs": []
    },
    {
      "cell_type": "code",
      "metadata": {
        "colab": {
          "base_uri": "https://localhost:8080/"
        },
        "id": "LDTyYwuJ5BIa",
        "outputId": "997cb8da-d595-40bc-a920-c60ea7e33285"
      },
      "source": [
        "np.inner(X, Y)"
      ],
      "execution_count": 5,
      "outputs": [
        {
          "output_type": "execute_result",
          "data": {
            "text/plain": [
              "array([[-5,  3],\n",
              "       [ 5,  2],\n",
              "       [-3, -1]])"
            ]
          },
          "metadata": {
            "tags": []
          },
          "execution_count": 5
        }
      ]
    },
    {
      "cell_type": "markdown",
      "metadata": {
        "id": "GY16gShG5X5r"
      },
      "source": [
        "## 행렬을 이해하는 방법 (2)\n",
        "\n",
        "- 행렬은 벡터공간에서 사용되는 연산자(operator)로 이해한다.\n",
        "\n",
        "- 행렬곱을 통해 벡터를 다른 차원의 공간으로 보낼 수 있다.\n",
        "\n",
        "- n * m 크기의 행렬 A에 m개의 행을 가지고 있는 열벡터 x를 곱해주면 n개의 행을 가지는 새로운 열벡터 Z를 얻을 수 있다.\n",
        "\n",
        "- 따라서 m차원 공간에 존재하는 벡터 x를 n차원 공간의 벡터 z로 옮긴 것이다.\n",
        "\n",
        "- 행렬곱을 통해 패턴을 추출할 수 있고 데이터를 압축할 수도 있다.\n",
        "\n",
        "- 모든 선형변환(linear transform)은 행렬곱으로 계산할 수 있다.\n"
      ]
    },
    {
      "cell_type": "markdown",
      "metadata": {
        "id": "HVNAF1I47fwF"
      },
      "source": [
        "## 역행렬(inverse matrix) 이해하기\n",
        "\n",
        "- 행렬곱을 통해 다른 차원의 공간으로 보낸 벡터를 역행렬을 이용하여 다시 원래의 차원으로 돌려보낼 수 있다.\n",
        "\n",
        "- 어떤 행렬 A의 연산을 거꾸로 되돌리는 행렬을 역행렬이라 부르고 A-1이라 표기한다.\n",
        "\n",
        "- 역행렬은 행과 열 숫자가 같고 행렬식(determinant)가 0이 아닌 경우에만 계산할 수 있다.\n",
        "\n",
        "- 역행렬은 n차원 공간의 벡터 z를 n차원 공간의 벡터 x로 되돌리는 연산이다.\n",
        "\n",
        "- n = m일 때만 가능하고 행렬 A의 행렬식이 0이 되면 안된다.\n",
        "\n",
        "- AA-1 = A-1A = 항등행렬 I\n",
        "\n",
        "- 항등행렬이란 n * n 행렬에서 대각선은 모두 1이고, 나머지 원소는 0인 행렬이다.\n",
        "\n",
        "- numpy에서는 np.linalg.inv()로 계산할 수 있다."
      ]
    },
    {
      "cell_type": "code",
      "metadata": {
        "id": "gcvMyjpU7dph"
      },
      "source": [
        "X = np.array([[1, -2, 3], \n",
        "              [7, 5, 0], \n",
        "              [-2, -1, 2]])"
      ],
      "execution_count": 6,
      "outputs": []
    },
    {
      "cell_type": "code",
      "metadata": {
        "colab": {
          "base_uri": "https://localhost:8080/"
        },
        "id": "tmcipipw8d-L",
        "outputId": "6c3d9790-454d-4c96-bf1b-771ab003879c"
      },
      "source": [
        "np.linalg.inv(X)"
      ],
      "execution_count": 7,
      "outputs": [
        {
          "output_type": "execute_result",
          "data": {
            "text/plain": [
              "array([[ 0.21276596,  0.0212766 , -0.31914894],\n",
              "       [-0.29787234,  0.17021277,  0.44680851],\n",
              "       [ 0.06382979,  0.10638298,  0.40425532]])"
            ]
          },
          "metadata": {
            "tags": []
          },
          "execution_count": 7
        }
      ]
    },
    {
      "cell_type": "code",
      "metadata": {
        "colab": {
          "base_uri": "https://localhost:8080/"
        },
        "id": "vSyNhRZB8f37",
        "outputId": "4f8b9631-9c8b-4e90-a474-1e38b1143fe7"
      },
      "source": [
        "# 컴퓨터에선 정확히 0, 1이 나오진 않고 근사치를 얻을 수 있다.\n",
        "X @ np.linalg.inv(X)"
      ],
      "execution_count": 8,
      "outputs": [
        {
          "output_type": "execute_result",
          "data": {
            "text/plain": [
              "array([[ 1.00000000e+00, -1.38777878e-17,  0.00000000e+00],\n",
              "       [-2.22044605e-16,  1.00000000e+00, -5.55111512e-17],\n",
              "       [-2.77555756e-17,  0.00000000e+00,  1.00000000e+00]])"
            ]
          },
          "metadata": {
            "tags": []
          },
          "execution_count": 8
        }
      ]
    },
    {
      "cell_type": "markdown",
      "metadata": {
        "id": "F6TN2p1J9CdD"
      },
      "source": [
        "- 만일 역행렬을 계산할 수 없다면 유사역행렬(pseudo-inverse) 또는 무어-펜로즈(Moore-Penrose) 역행렬 A+를 이용한다.\n",
        "\n",
        "- n >= m 인 경우, A+ = (ATA)-1*AT\n",
        "\n",
        "- n <= m 인 경우, A+ = AT(AAT)-1\n",
        "\n",
        "- n >= m 이면 A+A = I 가 성립하고, n <= m이면 AA+ = I 만 성립한다."
      ]
    },
    {
      "cell_type": "code",
      "metadata": {
        "id": "H53bDmX68jjv"
      },
      "source": [
        "Y = np.array([[0, -1],\n",
        "              [1, -1],\n",
        "              [-2, 1]])"
      ],
      "execution_count": 9,
      "outputs": []
    },
    {
      "cell_type": "code",
      "metadata": {
        "colab": {
          "base_uri": "https://localhost:8080/"
        },
        "id": "qqwF01eQ989H",
        "outputId": "8499af53-376f-4cea-fcaf-833f9b987056"
      },
      "source": [
        "# linear algebra _ pseudo inverse\n",
        "np.linalg.pinv(Y)"
      ],
      "execution_count": 10,
      "outputs": [
        {
          "output_type": "execute_result",
          "data": {
            "text/plain": [
              "array([[-5.00000000e-01, -3.33475900e-17, -5.00000000e-01],\n",
              "       [-8.33333333e-01, -3.33333333e-01, -1.66666667e-01]])"
            ]
          },
          "metadata": {
            "tags": []
          },
          "execution_count": 10
        }
      ]
    },
    {
      "cell_type": "code",
      "metadata": {
        "colab": {
          "base_uri": "https://localhost:8080/"
        },
        "id": "xGDfPlRZ9-bo",
        "outputId": "eb2875e0-5759-44f0-cb49-fc48783b7257"
      },
      "source": [
        "np.linalg.pinv(Y) @ Y"
      ],
      "execution_count": 11,
      "outputs": [
        {
          "output_type": "execute_result",
          "data": {
            "text/plain": [
              "array([[1.00000000e+00, 0.00000000e+00],\n",
              "       [2.22044605e-16, 1.00000000e+00]])"
            ]
          },
          "metadata": {
            "tags": []
          },
          "execution_count": 11
        }
      ]
    },
    {
      "cell_type": "markdown",
      "metadata": {
        "id": "T0AUGTFi-TU5"
      },
      "source": [
        "## 예제 _ 응용 1 : 연립방정식 풀기\n",
        "np.linalg.pinv 를 이용하면 연립방정식의 해를 구할 수 있다."
      ]
    },
    {
      "cell_type": "markdown",
      "metadata": {
        "id": "cj8oybyN-lq-"
      },
      "source": [
        "a11x1 + a12x2 + ... + a1mxm = b1\n",
        "\n",
        "a12x1 + a22x2 + ... + a2mxm = b2\n",
        "\n",
        "...\n",
        "\n",
        "an1x1 + an2x2 + ... + anmxm = bn\n",
        "\n",
        "-> Ax = b 로 표현할 수 있다.\n",
        "\n",
        "식의 개수 n 보다 변수의 개수 m 이 더 많기 때문에\n",
        "\n",
        "n <= m 이면 무어-펜로즈 역행렬을 이용하여 하나의 해를 구할수 있다."
      ]
    },
    {
      "cell_type": "markdown",
      "metadata": {
        "id": "PTFqeHST_fB2"
      },
      "source": [
        "따라서 x = A+b = AT(AAT)-1b 가 된다."
      ]
    },
    {
      "cell_type": "markdown",
      "metadata": {
        "id": "u8cy3oXI_3iM"
      },
      "source": [
        "--------------------------------------------------------------------------------"
      ]
    },
    {
      "cell_type": "markdown",
      "metadata": {
        "id": "CrRwGDDo_tq_"
      },
      "source": [
        "## 예제 _ 응용 2 : 선형회귀분석\n",
        "\n",
        "np.linalg.pinv를 이용하면 데이터를 선형 모델(linear model)로 해석하는 선형회귀식을 찾을 수 있다."
      ]
    },
    {
      "cell_type": "markdown",
      "metadata": {
        "id": "dMQYJT0j_6Ez"
      },
      "source": [
        "선형회귀분석은 X와 y가 주어진 상황에서 계수 beta를 찾아야 한다.\n",
        "\n",
        "Xbeta = y\n",
        "\n",
        "그러나 선형회귀분석은 연립방정식과 달리 행이 더 크므로 방정식을 푸는 것은 불가능하다.\n",
        "\n",
        "데이터를 최대한 잘 설명하는 beta를 찾는 것이 최선이다."
      ]
    },
    {
      "cell_type": "markdown",
      "metadata": {
        "id": "qSn0NdrBAU20"
      },
      "source": [
        "즉, 우리가 만든 예측 식의 값 y^과 정답 사이의 오차를 최소화해야 한다.\n",
        "\n",
        "Xbeta = y^ (~~ y)\n",
        "\n",
        "beta = X+(유사역행렬 X)y = (XTX)-1XTy\n",
        "\n",
        "Moore-Penrose 역행렬을 이용하면 y에 근접하는 y^을 찾을 수 있다."
      ]
    },
    {
      "cell_type": "markdown",
      "metadata": {
        "id": "cvums1iPA2nP"
      },
      "source": [
        "sklearn의 LinearRegression로도 선형회귀분석을 할 수 있다.\n",
        "\n",
        "그러나 같은 방법이지만 linalg.pinv()와 LinearRegression은 결과가 다르게 된다.\n",
        "\n",
        "왜일까 ?\n",
        "\n",
        "LinearRegression은 y절편(intercept)의 항을 자동으로 추정해주지만\n",
        "\n",
        "linalg.pinv()는 y절편 항을 직접 추가해야 한다.\n",
        "\n",
        "y절편 항을 직접 추가한 linalg.pinv()의 결과는 LinearRegression의 결과와 동일하다.\n",
        "\n"
      ]
    }
  ]
}
