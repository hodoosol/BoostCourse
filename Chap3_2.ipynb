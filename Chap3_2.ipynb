{
  "nbformat": 4,
  "nbformat_minor": 0,
  "metadata": {
    "colab": {
      "name": "Chap3_2.ipynb",
      "provenance": [],
      "authorship_tag": "ABX9TyONlyne5o2BfDoKo+aBQYLt",
      "include_colab_link": true
    },
    "kernelspec": {
      "name": "python3",
      "display_name": "Python 3"
    },
    "language_info": {
      "name": "python"
    }
  },
  "cells": [
    {
      "cell_type": "markdown",
      "metadata": {
        "id": "view-in-github",
        "colab_type": "text"
      },
      "source": [
        "<a href=\"https://colab.research.google.com/github/hodoosol/BoostCourse/blob/master/Chap3_2.ipynb\" target=\"_parent\"><img src=\"https://colab.research.google.com/assets/colab-badge.svg\" alt=\"Open In Colab\"/></a>"
      ]
    },
    {
      "cell_type": "markdown",
      "metadata": {
        "id": "Jxs4s_v1g7vo"
      },
      "source": [
        "# Mathematics for Artificial Intelligence\n",
        "\n",
        "## 1강 : 벡터가 뭔가요 ?\n",
        "\n",
        "- 벡터는 숫자를 원소로 가지는 리스트 또는 배열이다.\n",
        "\n",
        "- 행벡터, 열벡터가 있다.\n",
        "\n"
      ]
    },
    {
      "cell_type": "code",
      "metadata": {
        "id": "84rPuQ0Lgb_l"
      },
      "source": [
        "import numpy as np\n",
        "\n",
        "x = [1, 7, 2]\n",
        "x = np.array([1, 7, 2])  # 보통은 행벡터로 처리한다."
      ],
      "execution_count": 2,
      "outputs": []
    },
    {
      "cell_type": "markdown",
      "metadata": {
        "id": "IQzs-_9Hhlow"
      },
      "source": [
        "- 벡터는 공간에서의 한 점을 나타낸다.\n",
        "\n",
        "- 벡터는 원점으로부터의 상대적 위치를 표현한다.\n",
        "\n",
        "- 원점에서 벡터까지의 화살표로 표현한다.\n",
        "\n",
        "- 벡터에 숫자를 곱해주면 길이만 변한다.\n",
        "\n",
        "벡터 x에 스칼라 a를 곱할 때, a가 1보다 크면 길이가 늘어나고, 1보다 작으면 줄어든다. (이것을 스칼라곱이라고 부른다.) 단, 0보다 작으면 반대방향이 된다.\n",
        "\n",
        "- 벡터는 숫자를 원소로 가지는 리스트 또는 배열이므로, 벡터끼리 같은 모양을 가지면 덧셈, 뺄셈을 계산할 수 있다.\n",
        "\n",
        "- 또한, 벡터끼리 같은 모양을 가질 때 성분곱을 계산할 수 있다. (element wise product)\n",
        "\n",
        "- 두 벡터의 덧셈은 다른 벡터로부터 상대적 위치이동을 표현한다. \n",
        "\n",
        "ex) 두 벡터 x, y 의 덧셈은 원점에서부터 x까지의 위치이동 + x점에서부터 y점까지의 위치이동을 하는 것이다.\n",
        "\n",
        "ex) 뺄셈도 마찬가지 이다. 뺄셈은 방향을 뒤집은 덧셈으로서, 스칼라 -1이 곱해져있는 형태와 동일하다. 따라서 x - y는 원점에서 x까지의 위치 이동 + x점에서부터 -y 벡터만큼 이동, 즉 y만큼 반대방향으로 위치이동을 하는 것이다.\n",
        "\n"
      ]
    },
    {
      "cell_type": "markdown",
      "metadata": {
        "id": "ne3uqbz_k7O8"
      },
      "source": [
        "## 벡터의 노름 구해보기\n",
        "벡터의 노름은 원점에서부터의 거리를 말한다.\n",
        "임의의 차원 d에 대해 성립하는 것을 명심하라.\n",
        "\n",
        "- L1 노름\n",
        "= 각 성분의 변화량의 절대값을 모두 더한다.\n",
        "\n",
        "- L2 노름\n",
        "= 피타고라스 정리를 이용해 유클리드 거리를 계산한다. \n",
        "\n",
        "x축으로 이동한 거리가 x1, y축으로 이동한 거리가 x2라면\n",
        "(x1 절댓값의 제곱 + x2 절댓값의 제곱)에 루트를 씌운 값이 L2 노름이다."
      ]
    },
    {
      "cell_type": "code",
      "metadata": {
        "id": "0GkBxdyThURt"
      },
      "source": [
        "# L1 노름\n",
        "def l1_norm(x) :\n",
        "  x_norm = np.abs(x)\n",
        "  x_norm = np.sum(x_norm)\n",
        "  return x_norm"
      ],
      "execution_count": 4,
      "outputs": []
    },
    {
      "cell_type": "code",
      "metadata": {
        "id": "RbI5SmGNmsl6"
      },
      "source": [
        "# L2 노름\n",
        "def l2_norm(x) :\n",
        "  x_norm = x * x\n",
        "  x_norm = np.sum(x_norm)\n",
        "  x_norm = np.sqrt(x_norm)\n",
        "  return x_norm\n",
        "\n",
        "# L2 노름은 np.linalg.norm 을 사용해도 구현 가능하다."
      ],
      "execution_count": 5,
      "outputs": []
    },
    {
      "cell_type": "markdown",
      "metadata": {
        "id": "ebIn0GYJnoyL"
      },
      "source": [
        "왜 노름이 2개 인가요 ?\n",
        "-> 노름의 종류에 따라 기하학적인 성질이 달라지기 때문이다.\n",
        "\n",
        "L2 노름 상의 원은 일반적인 둥근 원이지만\n",
        "\n",
        "L1 노름 상의 원은 마름모꼴이다.\n",
        "\n"
      ]
    },
    {
      "cell_type": "markdown",
      "metadata": {
        "id": "7qQaPyfQouBQ"
      },
      "source": [
        "## 두 벡터 사이의 거리를 구해보자.\n",
        "\n",
        "L1, L2 노름을 이용해 두 벡터 사이의 거리를 계산할 수 있다.\n",
        "\n",
        "두 벡터 사이의 거리를 계산할 때는 벡터의 뺄셈을 이용한다.\n",
        "\n",
        "벡터 x, y 사이의 거리를 구할 때 y에서 정 반대 방향으로 x 벡터만큼 이동하면, 즉 -x만큼 이동하여 얻은 벡터 y - x 의 원점에서부터의 거리를 구하면 그 거리가 x와 y 사이의 거리와 동일하다.\n",
        "\n",
        "뺄셈을 거꾸로 해도 거리는 같다.\n",
        "||y - x || = ||x - y||\n",
        "\n",
        "\n"
      ]
    },
    {
      "cell_type": "markdown",
      "metadata": {
        "id": "44SZx-0KqJZm"
      },
      "source": [
        "## 두 벡터 사이의 각도를 구해보자.\n",
        "\n",
        "두 벡터 사이의 거리를 이용하여 각도도 계산할 수 있을까 ?\n",
        "\n",
        "Yes. 그러나 L2 노름으로만 가능하다.\n",
        "\n",
        "원점에서 x까지의 거리, 원점에서 y까지의 거리를 두 변으로 가지고 그 끼인각이 세타이며 \n",
        "\n",
        "x에서 y까지의 거리를 나머지 한 변으로 가지는 삼각형에서 코사인 제 2법칙을 사용하면 구할 수 있다. \n",
        "\n",
        "코사인 제 2법칙의 분자를 쉽게 계산하는 방법이 내적이다.\n",
        "\n",
        "내적은 np.inner를 사용하여 계산할 수 있다.\n"
      ]
    },
    {
      "cell_type": "code",
      "metadata": {
        "id": "wwq_aUaaotVL"
      },
      "source": [
        "def angle(x, y) :\n",
        "  y = np.inner(x, y) / (l2_norm(x) * l2_norm(y))\n",
        "  theta = np.arccos(y)\n",
        "  return theta"
      ],
      "execution_count": 6,
      "outputs": []
    },
    {
      "cell_type": "markdown",
      "metadata": {
        "id": "67tC3RhwrlVC"
      },
      "source": [
        "## 내적은 어떻게 해석할까 ?\n",
        "\n",
        "내적은 정사영(orthogonal projection)된 벡터의 길이와 관련있다.\n",
        "\n",
        "y 벡터 위의 점 Proj(x)은 y로 정사영된 벡터 x의 그림자를 의미한다.\n",
        "\n",
        "Proj(x)의 길이는 코사인 법칙에 의해 ||x||cos(theta) 가 된다.\n",
        "\n",
        "내적은 정사영의 길이를 벡터 y의 길이 ||y||만큼 조정한 값이다.\n",
        "\n",
        "내적은 두 벡터의 유사도(similarity)를 측정하는 데 사용 가능하다."
      ]
    }
  ]
}